{
 "cells": [
  {
   "cell_type": "code",
   "execution_count": 9,
   "id": "32347c2f-c991-4723-be27-efbfbfb06a4f",
   "metadata": {},
   "outputs": [
    {
     "name": "stdin",
     "output_type": "stream",
     "text": [
      "Enter the first unit sold: 150\n",
      "Enter the second unit sold: 120\n"
     ]
    },
    {
     "name": "stdout",
     "output_type": "stream",
     "text": [
      "Sales Data Summary:\n",
      "Total Units Sold: 270\n",
      "Difference Between Categories: 30\n",
      "Ratio of Category A to Category B is: 1.25\n"
     ]
    }
   ],
   "source": [
    "#Task 1: Sales Data Summary\n",
    "#Objective: XYZ Retail wants to automate the process of calculating basic sales metrics.\n",
    "#Ø Assign the number of units sold in two categories, `Category A` and `Category B`, to variables.\n",
    "#Ø Calculate the total units sold, the difference between the categories, and the ratio of units sold.\n",
    "#Ø Print these results clearly for the management team.\n",
    "category_a = eval(input(\"Enter the first unit sold:\"))\n",
    "category_b = eval(input(\"Enter the second unit sold:\"))\n",
    "total_sold = category_a+category_b\n",
    "diff = category_a-category_b\n",
    "rat = category_a/category_b\n",
    "print(\"Sales Data Summary:\")\n",
    "print(\"Total Units Sold:\",total_sold)\n",
    "print(\"Difference Between Categories:\",diff)\n",
    "print(\"Ratio of Category A to Category B is:\",rat)"
   ]
  },
  {
   "cell_type": "code",
   "execution_count": 14,
   "id": "fce2b900-3d10-454d-955c-bcbe3a76be20",
   "metadata": {},
   "outputs": [
    {
     "name": "stdin",
     "output_type": "stream",
     "text": [
      "Enter the customer name: Venkatadri\n",
      "Enter the customer age: 31\n"
     ]
    },
    {
     "name": "stdout",
     "output_type": "stream",
     "text": [
      "Dear Venkatadri at 31 you’re eligible for our premium loyalty program\n"
     ]
    }
   ],
   "source": [
    "#Task 2: Customer Age Data\n",
    "#Objective: Understanding the age distribution of customers is crucial for marketing strategies.\n",
    "#Ø Store a customer's name and age.\n",
    "#Ø Convert the age into a string and create a personalized marketing message like \"Dear John Doe, at 30, you’re eligible for our premium loyalty program.\"\n",
    "#   - Print the message for use in email campaigns.\n",
    "cust_name = input(str(\"Enter the customer name:\"))\n",
    "cust_age = eval(input(\"Enter the customer age:\"))\n",
    "str_age = str(cust_age)\n",
    "print(\"Dear\",cust_name,\"at\",str_age,\"you’re eligible for our premium loyalty program\")"
   ]
  },
  {
   "cell_type": "code",
   "execution_count": 24,
   "id": "b98be719-b5f9-4718-819a-085c2db374b0",
   "metadata": {},
   "outputs": [
    {
     "name": "stdout",
     "output_type": "stream",
     "text": [
      "Highest Price: 200\n",
      "Lowest Price: 30\n",
      "Mid-Range Products: [50, 120, 90, 150, 180]\n",
      "Updated price list: [50, 120, 30, 200, 90, 150, 180, 250]\n"
     ]
    }
   ],
   "source": [
    "#Task 3: Product List Management\n",
    "#Objective: Efficient management of the product list is essential for inventory control.\n",
    "#Ø Given a list of product prices, extract the highest and lowest prices.\n",
    "#Ø Create a new list with the mid-range products.\n",
    "#Ø Add a new premium product price to the list and print the updated list for the inventory team.\n",
    "from functools import reduce\n",
    "product_prices = [50, 120, 30, 200, 90, 150, 180]\n",
    "premium_product_price = 250\n",
    "maxi = reduce(lambda x,y : x if x>y else y,product_prices)\n",
    "low = reduce(lambda x,y : x if x<y else y,product_prices)\n",
    "mid_range = [i for i in product_prices if i!=maxi and i!=low]\n",
    "product_prices.append(premium_product_price)\n",
    "print(\"Highest Price:\",maxi)\n",
    "print(\"Lowest Price:\",low)\n",
    "print(\"Mid-Range Products:\",mid_range)\n",
    "print(\"Updated price list:\",product_prices)"
   ]
  },
  {
   "cell_type": "code",
   "execution_count": 1,
   "id": "3ae69a2d-1f6a-42d5-bf02-2a402843a7f4",
   "metadata": {},
   "outputs": [
    {
     "name": "stdout",
     "output_type": "stream",
     "text": [
      "Product Name: Wireless Mouse   Product SKU: WM-12345\n"
     ]
    }
   ],
   "source": [
    "#Task 4: Inventory Lookup\n",
    "#Objective: Quick access to product details is important for customer service representatives.\n",
    "#Ø Create a dictionary storing key information about a product (e.g., `product_name`, `SKU`, `price`, `category`).\n",
    "#Ø Print the product name and SKU when queried by a customer service representative.\n",
    "product_info = { \"product_name\": \"Wireless Mouse\", \"SKU\": \"WM-12345\", \"price\": 25.99, \"category\": \"Electronics\" }\n",
    "print(f\"Product Name: {product_info['product_name']}   Product SKU: {product_info['SKU']}\")\n"
   ]
  },
  {
   "cell_type": "code",
   "execution_count": 4,
   "id": "033fd34e-59f0-4321-9768-f4dc72d95649",
   "metadata": {},
   "outputs": [
    {
     "name": "stdin",
     "output_type": "stream",
     "text": [
      "Enter the stock level: 29\n"
     ]
    },
    {
     "name": "stdout",
     "output_type": "stream",
     "text": [
      "Stock is sufficient\n"
     ]
    }
   ],
   "source": [
    "#Task 5: Stock Level Alert System\n",
    "#Objective: Ensuring that stock levels are maintained is critical to avoid stockouts.\n",
    "#Write the code that takes the stock level as input.\n",
    "#If stock is below a certain threshold, print a \"Reorder Now\" alert. If stock is above the threshold, print \"Stock is sufficient.\"\n",
    "stock_level = eval(input(\"Enter the stock level:\"))\n",
    "threshold = 20\n",
    "if stock_level < threshold :\n",
    "    print(\"Reorder Now\")\n",
    "else:\n",
    "    print(\"Stock is sufficient\")\n"
   ]
  },
  {
   "cell_type": "code",
   "execution_count": 27,
   "id": "06061593-0d53-4371-bbe3-6d196e396a7c",
   "metadata": {},
   "outputs": [
    {
     "name": "stdout",
     "output_type": "stream",
     "text": [
      "For loop output: ['LAPTOP', 'MOUSE', 'KEYBOARD', 'MONITOR', 'PRINTER']\n",
      "While loop output: ['LAPTOP', 'MOUSE', 'KEYBOARD', 'MONITOR', 'PRINTER']\n"
     ]
    }
   ],
   "source": [
    "#Task 6: Sales Report Formatting\n",
    "#Objective: Formatting the sales data for management reports is crucial.\n",
    "#Given a list of products sold, print each product name in uppercase for better visibility in reports.\n",
    "#Implement both a `for` loop and a `while` loop for this task to ensure code flexibility.\n",
    "products_sold = [\"laptop\", \"mouse\", \"keyboard\", \"monitor\", \"printer\"]\n",
    "upper_products_sold=[]\n",
    "for i in products_sold:\n",
    "    upper_products_sold.append(i.upper())\n",
    "print(f\"For loop output:\",upper_products_sold)\n",
    "j=0\n",
    "while j <5:\n",
    "    products_sold[j]=products_sold[j].upper()\n",
    "    j+=1\n",
    "print(f\"While loop output:\",products_sold)"
   ]
  },
  {
   "cell_type": "code",
   "execution_count": 1,
   "id": "0e2bfe43-38c6-4318-b2e1-0d56addf1bfe",
   "metadata": {},
   "outputs": [
    {
     "name": "stdin",
     "output_type": "stream",
     "text": [
      "Enter the length 15\n",
      "Enter the width 20\n"
     ]
    },
    {
     "name": "stdout",
     "output_type": "stream",
     "text": [
      "The area of section 1 is 300 square meters.\n"
     ]
    }
   ],
   "source": [
    "#Task 7: Area Calculation for Store Layout\n",
    "#Objective: Accurate area calculations are needed to plan new store layouts.\n",
    "#Ø Create a function that calculates the area of a section of the store based on length and width.\n",
    "#Ø Use this function to calculate and print the area of several store sections.\n",
    "length = eval(input(\"Enter the length\"))\n",
    "width = eval(input(\"Enter the width\"))\n",
    "def area_calcul(l,w):\n",
    "    area = l*w\n",
    "    print(\"The area of section 1 is\",area, \"square meters.\")\n",
    "area_calcul(length,width)"
   ]
  },
  {
   "cell_type": "code",
   "execution_count": 2,
   "id": "23b19b0a-1efe-45ee-b5c5-1b4d64023517",
   "metadata": {},
   "outputs": [
    {
     "name": "stdout",
     "output_type": "stream",
     "text": [
      "Original customer feedback is: I loved the fast and friendly service!\n",
      "Number of vowels in fedback: 11\n",
      "Reversed feedback is: !ecivres yldneirf dna tsaf eht devol I\n"
     ]
    }
   ],
   "source": [
    "#Task 8: Customer Feedback Analysis\n",
    "#Objective: Analyzing customer feedback is vital to improving service.\n",
    "#· Write the code to count the number of vowels in a customer feedback message.\n",
    "#·  Also, reverse the feedback message for a unique data presentation in reports\n",
    "feedback = \"I loved the fast and friendly service!\"\n",
    "import re\n",
    "vowels = re.findall(r'[aeiouAEIOU]', feedback) \n",
    "vowel_count = len(vowels)\n",
    "reversed_feedback = feedback[::-1]\n",
    "print(\"Original customer feedback is:\",feedback)\n",
    "print(\"Number of vowels in fedback:\",vowel_count)\n",
    "print(\"Reversed feedback is:\",reversed_feedback)\n",
    "    "
   ]
  },
  {
   "cell_type": "code",
   "execution_count": 5,
   "id": "031b2eb5-2e42-4a57-9e94-9d354ee14531",
   "metadata": {},
   "outputs": [
    {
     "name": "stdout",
     "output_type": "stream",
     "text": [
      "Products eligible for the discount campaign: [85, 45]\n"
     ]
    }
   ],
   "source": [
    "#Task 9: Price Filtering Tool\n",
    "#Objective: Filtering product prices helps in creating targeted discounts.\n",
    "#Ø Use list comprehension to filter out products priced below a certain threshold from the product list.\n",
    "#Ø Print the list of eligible products for a discount campaign.\n",
    "product_prices = [150, 85, 300, 120, 45, 200]\n",
    "threshold = 100\n",
    "eligible_prices = [i for i in product_prices if i<threshold]\n",
    "print(\"Products eligible for the discount campaign:\",eligible_prices)"
   ]
  },
  {
   "cell_type": "code",
   "execution_count": 9,
   "id": "23237f52-2126-44f2-88c4-7f8af4ee4dea",
   "metadata": {},
   "outputs": [
    {
     "name": "stdout",
     "output_type": "stream",
     "text": [
      "File 'sales_log.txt' has been created and content has been written.\n",
      "Total sales today: $12,345.\n",
      "Number of transactions: 123\n",
      "\n"
     ]
    }
   ],
   "source": [
    "#Task 10: Sales Log File Management\n",
    "#Objective: Proper management of sales log files is necessary for compliance and audit purposes.\n",
    "#Ø Create a text file named `sales_log.txt` to store daily sales summaries.\n",
    "#Ø Write two lines summarizing the daily sales performance.\n",
    "#Ø Read and print the content of the file to ensure data integrity.\n",
    "file_name = \"sales_log.txt\"\n",
    "with open(file_name, 'w') as file:\n",
    "    file.write(\"Total sales today: $12,345.\\n\")\n",
    "    file.write(\"Number of transactions: 123\\n\")\n",
    "file.close()\n",
    "print(f\"File '{file_name}' has been created and content has been written.\")\n",
    "path = r\"C:\\Users\\Venkat\\sales_log.txt\"\n",
    "file =open(path,\"r\")\n",
    "content=file.read()\n",
    "print(content)"
   ]
  },
  {
   "cell_type": "code",
   "execution_count": 16,
   "id": "8645a1d7-49c2-474a-b0ba-b4cb2db5c6e0",
   "metadata": {},
   "outputs": [
    {
     "name": "stdout",
     "output_type": "stream",
     "text": [
      "Average Daily Sales for the Past Week: $ 1471.43\n"
     ]
    }
   ],
   "source": [
    "#Task 11: Daily Sales Average\n",
    "#Objective: Calculate the average daily sales for the past week.\n",
    "#Ø Given a list of sales figures for the last 7 days, calculate the average sales.\n",
    "#Ø Print the average sales to help the finance team understand the weekly performance.\n",
    "from functools import reduce\n",
    "daily_sales = [1200, 1500, 1100, 1800, 1700, 1600, 1400]\n",
    "length = len(daily_sales)\n",
    "total = reduce(lambda x,y:x+y,daily_sales)\n",
    "average_sales = total/length\n",
    "print(\"Average Daily Sales for the Past Week:\",\"$\",round(average_sales,2))"
   ]
  },
  {
   "cell_type": "code",
   "execution_count": 21,
   "id": "ee66dbe4-31a6-452f-a920-ec78f7f34aa5",
   "metadata": {},
   "outputs": [
    {
     "name": "stdout",
     "output_type": "stream",
     "text": [
      "Customer Spending Categories:\n",
      "\n",
      "customer 1 Spending =  200  -> CATEGORY: Low\n",
      "customer 2 Spending =  800  -> CATEGORY: Medium\n",
      "customer 3 Spending =  1500  -> CATEGORY: High\n",
      "customer 4 Spending =  3000  -> CATEGORY: High\n",
      "customer 5 Spending =  450  -> CATEGORY: Low\n",
      "customer 6 Spending =  1200  -> CATEGORY: Medium\n"
     ]
    }
   ],
   "source": [
    "#Task 12: Customer Segmentation\n",
    "#Objective: Categorize customers based on their total spending.\n",
    "#Ø Create a list of customer spending amounts.\n",
    "#Ø Use a loop to categorize customers as \"Low\", \"Medium\", or \"High\" spenders based on their spending amount.\n",
    "#Ø Print the categorized results to assist in targeted marketing.\n",
    "customer_spendings = [200, 800, 1500, 3000, 450, 1200] \n",
    "print(\"Customer Spending Categories:\\n\")\n",
    "x=1\n",
    "for i in range (0,len(customer_spendings)):\n",
    "    if customer_spendings[i]<500:\n",
    "        category =\"Low\"\n",
    "        print(\"customer\",x,\"Spending = \",customer_spendings[i],\" ->\",\"CATEGORY:\",category)\n",
    "        x+=1\n",
    "    elif(customer_spendings[i] ==500 or customer_spendings[i] <1500):\n",
    "        category =\"Medium\"\n",
    "        print(\"customer\",x,\"Spending = \",customer_spendings[i],\" ->\",\"CATEGORY:\",category)\n",
    "        x+=1\n",
    "    else:\n",
    "        category = \"High\"\n",
    "        print(\"customer\",x,\"Spending = \",customer_spendings[i],\" ->\",\"CATEGORY:\",category)\n",
    "        x+=1"
   ]
  },
  {
   "cell_type": "code",
   "execution_count": 25,
   "id": "21d2aee7-2e60-48c6-ae6e-9072cecd1f03",
   "metadata": {},
   "outputs": [
    {
     "name": "stdout",
     "output_type": "stream",
     "text": [
      "Product A: Original Price = $100, Discount = 10%, Final Price = $90.0\n",
      "Product B: Original Price = $250, Discount = 20%, Final Price = $200.0\n",
      "Product C: Original Price = $75, Discount = 15%, Final Price = $63.75\n",
      "Product D: Original Price = $150, Discount = 5%, Final Price = $142.5\n"
     ]
    }
   ],
   "source": [
    "#Task 13: Discount Calculation\n",
    "#Objective: Automate the calculation of discounts for a promotional campaign.\n",
    "#Ø Write a code that calculates the final price after applying a discount percentage to a product’s original price.\n",
    "#Ø Test this function on a list of products with different discounts and print the final prices.\n",
    "products = [ {\"name\": \"Product A\", \"original_price\": 100,\n",
    "              \"discount_percentage\": 10}, \n",
    "            {\"name\": \"Product B\", \"original_price\": 250, \"discount_percentage\": 20}, \n",
    "            {\"name\": \"Product C\", \"original_price\": 75, \"discount_percentage\": 15},\n",
    "            {\"name\": \"Product D\", \"original_price\": 150, \"discount_percentage\": 5} ]\n",
    "def discount(original,discount):\n",
    "    discount_amount = (original*discount)/100\n",
    "    final_price = original-discount_amount\n",
    "    return final_price\n",
    "\n",
    "for i in products:\n",
    "    name_1 = i[\"name\"]\n",
    "    o_price = i[\"original_price\"]\n",
    "    dis = i[\"discount_percentage\"]\n",
    "    final_price = discount(o_price,dis)\n",
    "    print(f\"{name_1}: Original Price = ${o_price}, Discount = {dis}%, Final Price = ${final_price}\")\n",
    "    "
   ]
  },
  {
   "cell_type": "code",
   "execution_count": 33,
   "id": "1c617f1b-0748-4cab-b973-d5c27389e03a",
   "metadata": {},
   "outputs": [
    {
     "name": "stdout",
     "output_type": "stream",
     "text": [
      "Positive\n"
     ]
    }
   ],
   "source": [
    "#Task 14: Customer Feedback Sentiment Analysis\n",
    "#Objective: Basic sentiment analysis of customer feedback.\n",
    "#Ø Write the Python code that checks if certain positive or negative words (e.g., \"good\", \"bad\", \"happy\", \"disappointed\") are present in customer feedback.\n",
    "#Ø Print \"Positive\" or \"Negative\" based on the words found in the feedback.\n",
    "\n",
    "def feedback_analysis(text):\n",
    "    positive_words = [\"good\", \"happy\", \"excellent\", \"great\"]\n",
    "    negative_words = [\"bad\", \"disappointed\", \"poor\", \"terrible\"]\n",
    "    split = text.lower().split()\n",
    "    positive_count = sum(1 for i in split if i in positive_words)\n",
    "    negative_count = sum(1 for i in split if i in negative_words)\n",
    "    if positive_count > negative_count:\n",
    "        sentiment = \"Positive\"\n",
    "        print(sentiment)\n",
    "    else :\n",
    "        sentiment = \"Negative\"\n",
    "        print(sentiment)\n",
    "text = \"I am very happy with the service. It was a good experience!\"\n",
    "feedback_analysis(text)"
   ]
  },
  {
   "cell_type": "code",
   "execution_count": 44,
   "id": "b6b8736d-1f66-4363-999c-dd97cafcfa88",
   "metadata": {},
   "outputs": [
    {
     "name": "stdout",
     "output_type": "stream",
     "text": [
      "{'Alice': {'current_salary': 50000, 'rating': 'Excellent'}, 'Bob': {'current_salary': 40000, 'rating': 'Good'}, 'Charlie': {'current_salary': 45000, 'rating': 'Average'}, 'David': {'current_salary': 35000, 'rating': 'Poor'}}, Original Salary = $50000, Rating = Excellent, Increment = 20%, New Salary = $60000.0\n",
      "{'Alice': {'current_salary': 50000, 'rating': 'Excellent'}, 'Bob': {'current_salary': 40000, 'rating': 'Good'}, 'Charlie': {'current_salary': 45000, 'rating': 'Average'}, 'David': {'current_salary': 35000, 'rating': 'Poor'}}, Original Salary = $40000, Rating = Good, Increment = 15%, New Salary = $46000.0\n",
      "{'Alice': {'current_salary': 50000, 'rating': 'Excellent'}, 'Bob': {'current_salary': 40000, 'rating': 'Good'}, 'Charlie': {'current_salary': 45000, 'rating': 'Average'}, 'David': {'current_salary': 35000, 'rating': 'Poor'}}, Original Salary = $45000, Rating = Average, Increment = 10%, New Salary = $49500.0\n",
      "{'Alice': {'current_salary': 50000, 'rating': 'Excellent'}, 'Bob': {'current_salary': 40000, 'rating': 'Good'}, 'Charlie': {'current_salary': 45000, 'rating': 'Average'}, 'David': {'current_salary': 35000, 'rating': 'Poor'}}, Original Salary = $35000, Rating = Poor, Increment = 5%, New Salary = $36750.0\n"
     ]
    }
   ],
   "source": [
    "#Task 15: Employee Salary Increment Calculator\n",
    "#Objective: Calculate the salary increment for employees based on their performance rating.\n",
    "#Create a dictionary that stores employee names and their performance ratings.\n",
    "#Write the code that applies a different increment percentage based on the rating.\n",
    "#Print the updated salary for each employee.\n",
    "employees = { \n",
    "    \"Alice\": {\"current_salary\": 50000, \"rating\": \"Excellent\"},\n",
    "             \"Bob\":     {\"current_salary\": 40000, \"rating\": \"Good\"}, \n",
    "             \"Charlie\": {\"current_salary\": 45000, \"rating\": \"Average\"}, \n",
    "             \"David\": {\"current_salary\": 35000, \"rating\": \"Poor\"} }\n",
    "increments = { \"Excellent\": 20, \"Good\": 15, \"Average\": 10, \"Poor\": 5 }\n",
    "def updated_salary(emp,inc):\n",
    "    for i, j in emp.items():\n",
    "        cur_salary =j[\"current_salary\"]\n",
    "        rating = j[\"rating\"]\n",
    "        inc_per = inc.get(rating, 0)\n",
    "        increment_amount = (cur_salary * inc_per) / 100\n",
    "        new_salary = cur_salary+increment_amount\n",
    "        print(f\"{employees}, Original Salary = ${cur_salary}, Rating = {rating}, Increment = {inc_per}%, New Salary = ${new_salary}\")\n",
    "updated_salary(employees,increments)"
   ]
  },
  {
   "cell_type": "code",
   "execution_count": 53,
   "id": "6d53dd80-aa06-4391-8538-e7f6e5ea6dcf",
   "metadata": {},
   "outputs": [],
   "source": [
    "#Task 16: Monthly Sales Report Generator\n",
    "#Objective: Generate a simple text-based monthly sales report.\n",
    "#Ø Create a list of daily sales figures for a month.\n",
    "#Ø Calculate the total and average sales for the month.\n",
    "#Ø Write these statistics to a text file named monthly_report.txt.\n",
    "daily_sales = [ 200, 250, 300, 400, 350, 500, 450, 300, 250, 400, 200, 300, 450, 500, 400, 250, 350, 300, 450, 400, 250, 300, 200, 400, 350, 300, 500, 450, 300, 250 ]\n",
    "length = len(daily_sales)\n",
    "total = reduce(lambda x,y:x+y,daily_sales)\n",
    "avg_sales = total/length\n",
    "file_name = \"monthly_report.txt\"\n",
    "with open(file_name, 'w') as file:\n",
    "    # Write some content to the file\n",
    "    file.write(\"Total sales:$\")\n",
    "    file.write(str(total))\n",
    "    file.write(\" Average Daily Sales:$\")\n",
    "    file.write(str(avg_sales))\n",
    "file.close()\n"
   ]
  },
  {
   "cell_type": "code",
   "execution_count": 59,
   "id": "881b78dd-26aa-404a-ba3f-541e9a15a967",
   "metadata": {},
   "outputs": [
    {
     "name": "stdout",
     "output_type": "stream",
     "text": [
      "Products that need replenishment:\n",
      "Product C\n",
      "Product E\n"
     ]
    }
   ],
   "source": [
    "#Task 17: Stock Replenishment Planning \n",
    "#Objective: Determine which products need replenishment based on sales data.\n",
    "#Ø Given a list of products and their current stock levels, compare these against a predefined threshold.\n",
    "#Ø Print a list of products that need to be reordered to maintain adequate stock levels.\n",
    "products = [ {\"product_name\": \"Product A\", \"stock\": 50},\n",
    "            {\"product_name\": \"Product B\", \"stock\": 150}, \n",
    "            {\"product_name\": \"Product C\", \"stock\": 30}, \n",
    "            {\"product_name\": \"Product D\", \"stock\": 75},\n",
    "            {\"product_name\": \"Product E\", \"stock\": 20} ]\n",
    "threshold = 40\n",
    "print(\"Products that need replenishment:\")\n",
    "for i in products:\n",
    "    stock = i[\"stock\"]\n",
    "    name = i[\"product_name\"]\n",
    "    if stock<threshold:\n",
    "        print(name)\n",
    "        "
   ]
  },
  {
   "cell_type": "code",
   "execution_count": 65,
   "id": "60ffb47b-70b4-4391-991b-dcb244d2a237",
   "metadata": {},
   "outputs": [
    {
     "name": "stdout",
     "output_type": "stream",
     "text": [
      "Cleaned Customer Names for Database Entry:\n",
      " John Doe \n",
      " Mary Smith \n",
      " Alice Johnson \n",
      "Bob White\n"
     ]
    }
   ],
   "source": [
    "#Task 18: Data Cleaning Utility\n",
    "#Objective: Create a utility to clean customer names for better data consistency.\n",
    "#Ø Write the code that takes a list of customer names with extra spaces and inconsistent capitalization.\n",
    "#Ø Clean the names by trimming spaces and standardizing the capitalization (e.g., \"JOHN DOE\" -> \"John Doe\").\n",
    "#Ø Print the cleaned names for database entry.\n",
    "customer_names = [ \" john doe \", \" MARY SMITH \", \" aLICE JOHNSON \", \"bOB WHITE\" ]\n",
    "print(\"Cleaned Customer Names for Database Entry:\")\n",
    "for i in customer_names:\n",
    "    clean = i.title()\n",
    "    print(clean)"
   ]
  },
  {
   "cell_type": "code",
   "execution_count": 69,
   "id": "b7879035-ca6d-4d90-91b6-7cf54d478f6c",
   "metadata": {},
   "outputs": [
    {
     "name": "stdout",
     "output_type": "stream",
     "text": [
      "Forecasted Sales for Next Month:$ 22333.33\n"
     ]
    }
   ],
   "source": [
    "#Task 19: Simple Sales Forecasting\n",
    "#Objective: Implement a basic forecasting model for next month’s sales.\n",
    "#Ø Based on the average sales of the last 3 months, predict next month’s sales using a simple average.\n",
    "#Ø Print the forecasted sales figures for budget planning.\n",
    "sales_last_3_months = [20000, 22000, 25000]\n",
    "def forecast_sales(sales):\n",
    "    forcast_sales = sum(sales)/len(sales)\n",
    "    return forcast_sales\n",
    "next_month_sales = forecast_sales(sales_last_3_months)\n",
    "print(f\"Forecasted Sales for Next Month:$\",round(next_month_sales,2))"
   ]
  },
  {
   "cell_type": "code",
   "execution_count": 72,
   "id": "5eef5bcc-e9e9-42c6-aaa9-51ea21defbd6",
   "metadata": {},
   "outputs": [
    {
     "name": "stdout",
     "output_type": "stream",
     "text": [
      "John Doe: $250 purchase, Loyalty Points: 5000\n",
      "Jane Smith: $500 purchase, Loyalty Points: 15000\n",
      "Alice Johnson: $1000 purchase, Loyalty Points: 30000\n",
      "Bob White: $150 purchase, Loyalty Points: 1500\n"
     ]
    }
   ],
   "source": [
    "#Task 20: Customer Loyalty Points Calculator\n",
    "#Objective: Calculate loyalty points for customers based on their purchases.\n",
    "#Ø Write a code that assigns loyalty points to customers based on their total purchase amount.\n",
    "#Ø Implement a tiered system where different spending levels earn different point multipliers.\n",
    "#Ø Print the loyalty points for a list of customers.\n",
    "customers = {\n",
    "    \"John Doe\": 250,\n",
    "    \"Jane Smith\": 500,\n",
    "    \"Alice Johnson\": 1000,\n",
    "    \"Bob White\": 150\n",
    "}\n",
    "def loyalty(purchase_amount):\n",
    "    if purchase_amount < 200:\n",
    "        points = purchase_amount * 10 \n",
    "    elif 200 <= purchase_amount < 500:\n",
    "        points = purchase_amount * 20\n",
    "    else:\n",
    "        points = purchase_amount * 30\n",
    "    return points\n",
    "\n",
    "def loyalty_points(customers):\n",
    "    for customer, purchase in customers.items():\n",
    "        points = loyalty(purchase)\n",
    "        print(f\"{customer}: ${purchase} purchase, Loyalty Points: {points}\")\n",
    "print_loyalty_points(customers)"
   ]
  },
  {
   "cell_type": "code",
   "execution_count": null,
   "id": "f3fa0869-93e2-4b62-bb30-06d7f3bae996",
   "metadata": {},
   "outputs": [],
   "source": []
  }
 ],
 "metadata": {
  "kernelspec": {
   "display_name": "Python 3 (ipykernel)",
   "language": "python",
   "name": "python3"
  },
  "language_info": {
   "codemirror_mode": {
    "name": "ipython",
    "version": 3
   },
   "file_extension": ".py",
   "mimetype": "text/x-python",
   "name": "python",
   "nbconvert_exporter": "python",
   "pygments_lexer": "ipython3",
   "version": "3.12.7"
  }
 },
 "nbformat": 4,
 "nbformat_minor": 5
}
